{
 "cells": [
  {
   "cell_type": "code",
   "execution_count": null,
   "id": "a6e2bb73-35b1-4819-96c6-58bf9a375ed5",
   "metadata": {},
   "outputs": [],
   "source": [
    "#Importando bibliotecas\n",
    "import pandas as pd"
   ]
  },
  {
   "cell_type": "code",
   "execution_count": null,
   "id": "0791f292-1f70-4c87-92d0-5b918b3f8d5b",
   "metadata": {},
   "outputs": [],
   "source": [
    "#ler arquivo e extrair os dados\n",
    "\n",
    "def read_files(path, name_file, year_date, type_file):\n",
    "    \n",
    "    _file = f'{path}{name_file}{year_date}.{type_file}'\n",
    "    \n",
    "    colspecs=[(2,10),\n",
    "              (10,12),\n",
    "              (12,24),\n",
    "              (27,39),\n",
    "              (56,69),\n",
    "              (69,82),\n",
    "              (82,95),\n",
    "              (108,121),\n",
    "              (152,170),\n",
    "              (170,188)\n",
    "              ]\n",
    "    \n",
    "    names = ['data_pregao','codbdi','sigla_acao','nome_acao','preco_abertura','preco_max', 'preco_minimo','preco_fechamento', 'qtd_negocios', 'volume_negocios']\n",
    "    \n",
    "    df = pd.read_fwf(_file, colspecs=colspecs, names = names , skiprows=1 )\n",
    "        \n",
    "    return df"
   ]
  },
  {
   "cell_type": "code",
   "execution_count": null,
   "id": "6c78895f-8e02-4ff4-8a09-bfe4a257a612",
   "metadata": {},
   "outputs": [],
   "source": [
    "#Filtrar ações\n",
    "\n",
    "def filter_stocks(df):\n",
    "    df = df[df['codbdi'] == 2 ]\n",
    "    df = df.drop(['codbdi'],axis=1)\n",
    "    \n",
    "    return df"
   ]
  },
  {
   "cell_type": "code",
   "execution_count": null,
   "id": "d0ea5cdb-6bf5-4c68-a040-3c083ff53a4c",
   "metadata": {},
   "outputs": [],
   "source": [
    "#Ajustar campo de data\n",
    "\n",
    "def parse_date(df):\n",
    "    df['data_pregao'] = pd.to_datetime(df['data_pregao'], format='%Y%m%d')    \n",
    "    \n",
    "    return df"
   ]
  },
  {
   "cell_type": "code",
   "execution_count": null,
   "id": "987949b2-01d8-4181-81a5-871175bb0822",
   "metadata": {},
   "outputs": [],
   "source": [
    "#Ajuste nos campos de valores\n",
    "\n",
    "def parse_values(df):\n",
    "    df['preco_abertura'] = (df['preco_abertura'] /100).astype(float)\n",
    "    df['preco_maximo'] = (df['preco_max'] /100).astype(float)\n",
    "    df['preco_minimo'] = (df['preco_minimo'] /100).astype(float)\n",
    "    df['preco_fechamento'] = (df['preco_fechamento'] /100).astype(float)\n",
    "    \n",
    "    return df"
   ]
  },
  {
   "cell_type": "code",
   "execution_count": null,
   "id": "9e9dbe6c-ad5b-4c2f-bfee-1ab427d16b98",
   "metadata": {},
   "outputs": [],
   "source": [
    "#juntando os arquivos\n",
    "\n",
    "def concat_files(path, name_file, year_date, type_file, final_file):\n",
    "   \n",
    "        \n",
    "    for i,y in enumerate(year_date):\n",
    "        df = read_files(path, name_file, y, type_file)\n",
    "        df = filter_stocks(df)\n",
    "        df = parse_date(df)\n",
    "        df = parse_values(df)\n",
    "        \n",
    "        if i ==0:\n",
    "            df_final = df\n",
    "        else:\n",
    "            df_final = pd.concat([df_final,df])\n",
    "    \n",
    "    df_final.to_csv(f'{path}//{final_file}', index=False)   "
   ]
  },
  {
   "cell_type": "code",
   "execution_count": null,
   "id": "b4abb654-fe33-46b0-99e5-07fa8e6f9f86",
   "metadata": {},
   "outputs": [],
   "source": [
    "#Executando programa de etl\n",
    "\n",
    "year_date = ['2022','2023','2024']\n",
    "\n",
    "path='C:/Users/duda/Desktop/IBOVESPA/'\n",
    "\n",
    "name_file='COTAHIST_A'\n",
    "\n",
    "type_file ='txt'\n",
    "\n",
    "final_file = 'all_bovespa.csv'\n",
    "\n",
    "concat_files( path, name_file, year_date,type_file, final_file)"
   ]
  },
  {
   "cell_type": "code",
   "execution_count": null,
   "id": "894a67bc-68d3-414b-ad43-939054501aad",
   "metadata": {},
   "outputs": [],
   "source": []
  }
 ],
 "metadata": {
  "kernelspec": {
   "display_name": "Python 3 (ipykernel)",
   "language": "python",
   "name": "python3"
  },
  "language_info": {
   "codemirror_mode": {
    "name": "ipython",
    "version": 3
   },
   "file_extension": ".py",
   "mimetype": "text/x-python",
   "name": "python",
   "nbconvert_exporter": "python",
   "pygments_lexer": "ipython3",
   "version": "3.12.4"
  }
 },
 "nbformat": 4,
 "nbformat_minor": 5
}
